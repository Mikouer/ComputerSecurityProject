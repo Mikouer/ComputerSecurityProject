{
 "cells": [
  {
   "cell_type": "code",
   "execution_count": 24,
   "metadata": {},
   "outputs": [],
   "source": [
    "from cryptography.hazmat.backends import default_backend\n",
    "from cryptography.hazmat.primitives import serialization\n",
    "from cryptography.hazmat.primitives.asymmetric import rsa\n",
    "from cryptography.hazmat.primitives import hashes\n",
    "from cryptography.hazmat.primitives.asymmetric import padding"
   ]
  },
  {
   "cell_type": "code",
   "execution_count": 21,
   "metadata": {},
   "outputs": [
    {
     "name": "stdout",
     "output_type": "stream",
     "text": [
      "Original: b'Secret Message'\n",
      "Encrypted: b'B\\x06\\xbd\\x03\\x19\\xd6\\xc5e\\x82!\\x08[~6\\x81+\\xcc\\x90\\x1c\\x90\\xc2R\\x1c\\x07\\\\\\x8a/l&js^q\\x14\\xaa\\x9a\\x8ev\\x0f\\x97\\xae\\xea\\xc7T?\\x9dB\\xdc\\xa3T\\xff`\\x03\\x97\\xab\\xeev\\xc8\\xa1\\xc3J\\x81>\\x97\\x8fXg\\xa5\\x92\\xa8\\\\\\xcc\\xc19\\x95\\x04\\x11\\x16\\x80\\xdf\\\\\\xb3\\xd7\\xbcJ\\x05\\x00\\xa2yr}P\\x8d\\xd4.\\xc4\\x14\\x85\\xfc\\x00\\xf9\\x8a\\xa0|z\\xa8\\xb5\\x16Bt\\n^\\x9e\\xe7u\\xb0\\xd60\\xfahj\\\\C\\xc4\\x10\"5\\xe1\\xd1D\\x9d\\x88\\xc3p\\xc21U\\xc0\\xa3\\xeb\\xe8\\x8c5\\xcd\\xf1\\x02T \\xfc\\xe5\\xd3\\xd2\\x19\\x16>k\\xce\\'\\x86Kq\\xf1\\x8c\\xec~\\xb8\\x8e\\xb0\\xa24\\n&I 7\\x94\\xf1Dn*\\xaf\\xa3~\\x97.\\xe2/\\x93\\xdbUq\\xc2\\x04\\x0b\\xf3\\x8b\\xea\\xd8\\xb5>Z\\xc2\\xf4\\x95\\x8d\\x9fvk3b\\x99\\xb8k\\x16\\xb6\\x81\\xb6\\xe7\\xe5\\x15\\xa5\\x17\\xb9\\x8d\\xcd(\\xc2\\xa9lN\\xd9\\xf1\\xfc\\x9d|\\xd6wQ+\\xc6\\x08oS\\xd6\\x83\\x02+\\x8c97)3:\\xc0q(vz@/\\xe2t\\xb7\\xb1\\x12\\xa5\\xfa9\\x1a\\x9e\\x96\\xa9W\\xe8r\\xddf\\xd0\\xf1\\x91\\xfa\\xb5\\xf0\\x9d\\xe6o5\\x93>\\x9b1\\x9dw\\xb8=\\\\\\x04\\x89)\\xf9\\xdd\\xe4\\xe0?m\\xec\\x1d\\xf6\\x94\\x92\\xc7mx\\xb6M\\n\\x9a\\x18\\xe8b*6\\x80\\xc9.jP\\xbe\\xc1\\xb2\\xa456\\x9ap\\xb7\\xc9\\x90k\\x1c\\x07\\x9a\\xd7d\\xc0\\x95\\xd1Vjq+\\xdf\\x9at\\xf6z\\x9eq\\r\\x00\\x9fkA\\x8bu9\\xefO>%6\\xeb\\x84O\\xea\\x1eZ\\x83\\xb1\\\\\\xe8;\\x06}'\n",
      "Decrypted: Secret Message\n"
     ]
    }
   ],
   "source": [
    "# Generate an RSA Key\n",
    "private_key = rsa.generate_private_key(\n",
    "    public_exponent=65537,\n",
    "    key_size=3072,\n",
    "    backend=default_backend()\n",
    ")\n",
    "\n",
    "# Get the Public Key from the Private Key\n",
    "public_key = private_key.public_key()\n",
    "\n",
    "# Message to be encrypted\n",
    "message = b\"Secret Message\"\n",
    "\n",
    "# Encrypting the message\n",
    "encrypted = public_key.encrypt(\n",
    "    message,\n",
    "    padding.OAEP(\n",
    "        mgf=padding.MGF1(algorithm=hashes.SHA256()),\n",
    "        algorithm=hashes.SHA256(),\n",
    "        label=None\n",
    "    )\n",
    ")\n",
    "\n",
    "# Decrypting the message\n",
    "original_message = private_key.decrypt(\n",
    "    encrypted,\n",
    "    padding.OAEP(\n",
    "        mgf=padding.MGF1(algorithm=hashes.SHA256()),\n",
    "        algorithm=hashes.SHA256(),\n",
    "        label=None\n",
    "    )\n",
    ")\n",
    "\n",
    "# Decode from bytes to string\n",
    "decoded_message = original_message.decode('utf-8')\n",
    "\n",
    "\n",
    "print(\"Original:\", message)\n",
    "print(\"Encrypted:\", encrypted)\n",
    "print(\"Decrypted:\", decoded_message)\n"
   ]
  }
 ],
 "metadata": {
  "kernelspec": {
   "display_name": "Python 3.10.6 64-bit",
   "language": "python",
   "name": "python3"
  },
  "language_info": {
   "codemirror_mode": {
    "name": "ipython",
    "version": 3
   },
   "file_extension": ".py",
   "mimetype": "text/x-python",
   "name": "python",
   "nbconvert_exporter": "python",
   "pygments_lexer": "ipython3",
   "version": "3.10.6"
  },
  "orig_nbformat": 4,
  "vscode": {
   "interpreter": {
    "hash": "1d16c9a9808cbfe1682a17f52d75a8b6bb7cf0742c3bd66aefd52a7e5bba61c3"
   }
  }
 },
 "nbformat": 4,
 "nbformat_minor": 2
}
