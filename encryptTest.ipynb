{
 "cells": [
  {
   "cell_type": "code",
   "execution_count": 1,
   "metadata": {},
   "outputs": [
    {
     "name": "stdout",
     "output_type": "stream",
     "text": [
      "Collecting cryptography\n",
      "  Downloading cryptography-41.0.7-cp37-abi3-win_amd64.whl.metadata (5.3 kB)\n",
      "Requirement already satisfied: cffi>=1.12 in c:\\users\\zhefan cheng\\appdata\\local\\programs\\python\\python310\\lib\\site-packages (from cryptography) (1.15.1)\n",
      "Requirement already satisfied: pycparser in c:\\users\\zhefan cheng\\appdata\\local\\programs\\python\\python310\\lib\\site-packages (from cffi>=1.12->cryptography) (2.21)\n",
      "Downloading cryptography-41.0.7-cp37-abi3-win_amd64.whl (2.7 MB)\n",
      "   ---------------------------------------- 2.7/2.7 MB 10.0 MB/s eta 0:00:00\n",
      "Installing collected packages: cryptography\n",
      "Successfully installed cryptography-41.0.7\n",
      "Note: you may need to restart the kernel to use updated packages.\n"
     ]
    },
    {
     "name": "stderr",
     "output_type": "stream",
     "text": [
      "\n",
      "[notice] A new release of pip is available: 23.3.1 -> 23.3.2\n",
      "[notice] To update, run: python.exe -m pip install --upgrade pip\n"
     ]
    }
   ],
   "source": [
    "pip install cryptography\n"
   ]
  },
  {
   "cell_type": "code",
   "execution_count": 2,
   "metadata": {},
   "outputs": [],
   "source": [
    "from cryptography.hazmat.backends import default_backend\n",
    "from cryptography.hazmat.primitives import serialization\n",
    "from cryptography.hazmat.primitives.asymmetric import rsa\n",
    "from cryptography.hazmat.primitives import hashes\n",
    "from cryptography.hazmat.primitives.asymmetric import padding"
   ]
  },
  {
   "cell_type": "code",
   "execution_count": 20,
   "metadata": {},
   "outputs": [
    {
     "name": "stdout",
     "output_type": "stream",
     "text": [
      "Original: b'Secret Message'\n",
      "Encrypted: b'\\x8e\\xef\\xb8\\xb7h6\\xd9/\\x93o\\xc5\\x03\\'\\x94\\xe6\\x82\\x88g\\x90\\x16\\xe1\\x91\\xc3C}E\\xdbX\\x1c\\x00\\xca\\xee\\xe8\\xa8H\\xd8rx!\\x82a9\\xca}\\x90q\\x8aH`\\xdf\\xd4\\x14\\xbe\\x9b\\xb4\\xea\\xf2\\xfb\\xb0Kq\\xed\\xfd\\xe7\\xa03\\xccy\\x82$\\x05\\xd7\\xcd\\xb0E\\x02\\xfb$=$\\x8c\\xadT\\xb7/\\xc3le8\\xac5?\\xf7\\xe2\\x08\\xafp\\x05g\\x89\\x9cL\\xfd\\n\\x88]XPv\\xd7\\xe5\\x15Y\\x9f\\xc6al\\n\\xb4\\xaa\\x87~wm\\'\\xca\\x17C\\xa20\\xe1\\x18dR\\xaaA\\xcc\\x02`Xb[\\x91\\x19U}\\x18\\xfea\\x8fx48\\x1b\\x88sY\\x8e\\xdf\\xc4%H\\x12\\xb6{kp\\xef\\xab\\x18\\x17\\xda\\xf7\\xaayGP\\xdaj\\'+\\xc4\\xad7\\xf0 h\\xab\\xc4\\x8b<\\xa3\\xe9\\x95\\xd9H\\xf0\\xe7e\\xd1\\x8e(e\\xcf\\x1f\\x9e\"y\\x88S\\xc2\\xef\\xf3\\xf3\\x07\\xdd\\x96O\\x033EL\\xfb\\xddO\\x17\\\\\\xdbE\\xea:\\xcf\\xc2\\xf2\\xbbL\\x11\\xc5\\xb6\\x0f\\xbbN\\x15O\\x9b\\xeb\\x975t\\xe1s>\\xa5\\xf6_\\x15u\\xc2\\xd3|\\xd4&\\xa0\\xc7Kw\\x1ap[z\\xd0E\\x8d\\t\\xec\\x11t\\x900F\\xa0{h\\x0b!\\xaa\\x84 \\xd5e\\x15\\xfd\\x88\\xa6AI\\xe6\\xab{\\xd8\\x01\\x9d\\xd2\\xc7\\xde\\x85\\x82\\xab(\\x9d\\x12R1\\x91\\xc3\\xf5!\\x1c&f\\xee\\xf5\\x97\\x9d\\xce\\x89\\x8e! \\xe1\\xf1\\x9b\\xc49\\x97f\\xb7\\x97xM\\xe3\\xcf\\x96}\\xb0q\\xe0C\\xdc\\xa5\\xday\\xf8\\xa3Y\\x8dT\\x15j\\xf0h\\'\\n\\xb1\\xab\\xc6\\x92\\xc8\\xc6\\xcb54X\\xb4\\x8a\\xa1\\xc6\\x8f[\\x96\\xfc\\xca\\x87H'\n",
      "Decrypted: b'Secret Message'\n"
     ]
    }
   ],
   "source": [
    "# Generate an RSA Key\n",
    "private_key = rsa.generate_private_key(\n",
    "    public_exponent=65537,\n",
    "    key_size=3072,\n",
    "    backend=default_backend()\n",
    ")\n",
    "\n",
    "# Get the Public Key from the Private Key\n",
    "public_key = private_key.public_key()\n",
    "\n",
    "# Message to be encrypted\n",
    "message = b\"Secret Message\"\n",
    "\n",
    "# Encrypting the message\n",
    "encrypted = public_key.encrypt(\n",
    "    message,\n",
    "    padding.OAEP(\n",
    "        mgf=padding.MGF1(algorithm=hashes.SHA256()),\n",
    "        algorithm=hashes.SHA256(),\n",
    "        label=None\n",
    "    )\n",
    ")\n",
    "\n",
    "# Decrypting the message\n",
    "original_message = private_key.decrypt(\n",
    "    encrypted,\n",
    "    padding.OAEP(\n",
    "        mgf=padding.MGF1(algorithm=hashes.SHA256()),\n",
    "        algorithm=hashes.SHA256(),\n",
    "        label=None\n",
    "    )\n",
    ")\n",
    "\n",
    "print(\"Original:\", message)\n",
    "print(\"Encrypted:\", encrypted)\n",
    "print(\"Decrypted:\", original_message)\n"
   ]
  }
 ],
 "metadata": {
  "kernelspec": {
   "display_name": "Python 3.10.6 64-bit",
   "language": "python",
   "name": "python3"
  },
  "language_info": {
   "codemirror_mode": {
    "name": "ipython",
    "version": 3
   },
   "file_extension": ".py",
   "mimetype": "text/x-python",
   "name": "python",
   "nbconvert_exporter": "python",
   "pygments_lexer": "ipython3",
   "version": "3.10.6"
  },
  "orig_nbformat": 4,
  "vscode": {
   "interpreter": {
    "hash": "1d16c9a9808cbfe1682a17f52d75a8b6bb7cf0742c3bd66aefd52a7e5bba61c3"
   }
  }
 },
 "nbformat": 4,
 "nbformat_minor": 2
}
