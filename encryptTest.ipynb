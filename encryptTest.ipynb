{
 "cells": [
  {
   "cell_type": "code",
   "execution_count": 1,
   "outputs": [],
   "source": [
    "from cryptography.hazmat.backends import default_backend\n",
    "from cryptography.hazmat.primitives import serialization\n",
    "from cryptography.hazmat.primitives.asymmetric import rsa\n",
    "from cryptography.hazmat.primitives import hashes\n",
    "from cryptography.hazmat.primitives.asymmetric import padding"
   ],
   "metadata": {
    "collapsed": false,
    "pycharm": {
     "name": "#%%\n"
    }
   }
  },
  {
   "cell_type": "code",
   "execution_count": 2,
   "outputs": [
    {
     "name": "stdout",
     "output_type": "stream",
     "text": [
      "Original JSON: {'id': 'test123', 'password': 'PASSWORD123', 'server': {'ip': '127.0.0.1', 'port': 12345}, 'actions': {'delay': 1, 'steps': [{'action': 'INCREASE', 'amount': 5}, {'action': 'DECREASE', 'amount': 2}, {'action': 'DECREASE', 'amount': 9}, {'action': 'INCREASE', 'amount': 8}]}}\n",
      "Encrypted: b'N\\x8c\\xce\\xa4\\x12E\\x89:YN\\xc5Y\\x88\\x97\\\\\\x83\\x17\\x9a\\x03#%\\xcab\\x80$\\xe5\\x8f\\xcdJ8\\x18\\x11h`\\xe6\\xd2\\x05;`4$\\xed;$\\x00\\xe9\\x8d\\x07\\x14@\\xac.<|\\xfax\\xe78\\xd9<\\xe8\\x9e\\x8e\\x0cX\\x88\\xe4\\x0efj\\xf6\\xe6\\n\\xe7x\\xd2\\xae\\x82\\x924\\x1am\\xf1\\xfe\\xf8\\xcc_4C\\x1a\\xf5\\x1a\\xcft\\x02\\xf02\\x82+\\x8a\\x8aQk\\x05\\x1a\\xf3\\x12\\xb3\\x9b\\xec\\xf1.;\\x95\\xac\\x9fR\\x14\\xe5r\\xa9\\x88Q\\xb56g\\xf4\\xd5*\\x06J\\xf8\\xe4>4\\xae\\xc7\\xce\\x84\\x87\\xf4L\\x90\\xcc\\x95\\xf96\\xc9\\x81\\x02\\xd6g3l\\xbb\\x84\\xa0y\\xbf\\xec\\xf6c\\xfb\\xcc\\xc8\\xba\\xabAy\\x8e\\x07V\\xaf\\xd1\\xcfWq\\x99\\xf5\\xd8\\x96w\\\\\\x90\\x90\\x94\\xe6\\x041i!\\x89\\x05\\xd5\\x1c\\xa8\\x17A\\x19mr\\xe2?\\x02r\\xfd\\x8c\\x81B4f\\xd4\\x06\\xf0\\x8b\\xb3U\\x9c\\x18>\\xf7H\\x93\\xf7\\x80sl9\\xda\\x11\\xde\\xfd`\\xc9\\x93z\\xa3m\\xcf\\xc0L/\\x1dGQ\\x19;\\x97\\xdac\\x0b\\x06+\\xcc\\xeab\\x96\\x90\\x01\\x02\\xab\\x07\\xfd\\x1d\\x88n\\x7f9\\xe5\\x81L\\r\\xa7\\xfa\\x14\\xca\\\\\\xc0\\x9bW\\x1f\\xcb\\xc4\\x8f\\x8b\\x80r4\\xd0\\xfd\\x8d\\xc6\\xfc\\x92\\xfc\\x80\\x9eV\\x9c\\xcc\\xa2@$\\xee\\xdaxnOd\\x9c\\xb7\\xa5\\xb7CDD\\xd2\\x87q\\x1d\\x8d.zJ\\xaf\\xb2[I\\x9d\\xab\\xc3\\x17\\xe9\\xb5\\xcaW\\xaf\\xe4\\x89\\x83\\x95\\xad\\x9d\\\\UU\\xfe_\\xbc\\xde\\x064V\\xa1\\xcf\\xbc%\\xef\\x820WC\\x91\\xf0\\x12\\xd8\\x1d\\xa1Q\\x9f\\x0b\\nq\\xc0\\xa2\\x8b[g\\x80\\xad\\xf6\\x951)'\n",
      "Decrypted JSON: {'id': 'test123', 'password': 'PASSWORD123', 'server': {'ip': '127.0.0.1', 'port': 12345}, 'actions': {'delay': 1, 'steps': [{'action': 'INCREASE', 'amount': 5}, {'action': 'DECREASE', 'amount': 2}, {'action': 'DECREASE', 'amount': 9}, {'action': 'INCREASE', 'amount': 8}]}}\n"
     ]
    }
   ],
   "source": [
    "# Generate an RSA Key\n",
    "private_key = rsa.generate_private_key(\n",
    "    public_exponent=65537,\n",
    "    key_size=3072,\n",
    "    backend=default_backend()\n",
    ")\n",
    "\n",
    "# Get the Public Key from the Private Key\n",
    "public_key = private_key.public_key()\n",
    "\n",
    "# Message to be encrypted\n",
    "message = b\"Secret Message\"\n",
    "\n",
    "# Encrypting the message\n",
    "encrypted = public_key.encrypt(\n",
    "    message,\n",
    "    padding.OAEP(\n",
    "        mgf=padding.MGF1(algorithm=hashes.SHA256()),\n",
    "        algorithm=hashes.SHA256(),\n",
    "        label=None\n",
    "    )\n",
    ")\n",
    "\n",
    "# Decrypting the message\n",
    "original_message = private_key.decrypt(\n",
    "    encrypted,\n",
    "    padding.OAEP(\n",
    "        mgf=padding.MGF1(algorithm=hashes.SHA256()),\n",
    "        algorithm=hashes.SHA256(),\n",
    "        label=None\n",
    "    )\n",
    ")\n",
    "\n",
    "# Decode from bytes to string\n",
    "decoded_message = original_message.decode('utf-8')\n",
    "\n",
    "\n",
    "print(\"Original:\", message)\n",
    "print(\"Encrypted:\", encrypted)\n",
    "print(\"Decrypted:\", decoded_message)\n"
   ],
   "metadata": {
    "collapsed": false,
    "pycharm": {
     "name": "#%%\n"
    }
   }
  }
 ],
 "metadata": {
  "kernelspec": {
   "display_name": "Python 3.10.6 64-bit",
   "language": "python",
   "name": "python3"
  },
  "language_info": {
   "codemirror_mode": {
    "name": "ipython",
    "version": 3
   },
   "file_extension": ".py",
   "mimetype": "text/x-python",
   "name": "python",
   "nbconvert_exporter": "python",
   "pygments_lexer": "ipython3",
   "version": "3.10.6"
  },
  "orig_nbformat": 4,
  "vscode": {
   "interpreter": {
    "hash": "1d16c9a9808cbfe1682a17f52d75a8b6bb7cf0742c3bd66aefd52a7e5bba61c3"
   }
  }
 },
 "nbformat": 4,
 "nbformat_minor": 2
}